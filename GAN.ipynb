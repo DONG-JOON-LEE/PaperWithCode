{
 "cells": [
  {
   "cell_type": "code",
   "execution_count": 28,
   "metadata": {},
   "outputs": [],
   "source": [
    "import os\n",
    "import torch\n",
    "import torchvision \n",
    "import torch.nn as nn \n",
    "import matplotlib.pyplot as plt\n",
    "import torch.optim as optim\n",
    "from torchvision import datasets, transforms\n",
    "from torchvision.utils import save_image\n",
    "from torch.utils.data import DataLoader\n"
   ]
  },
  {
   "cell_type": "code",
   "execution_count": 50,
   "metadata": {},
   "outputs": [],
   "source": [
    "#hyperparameters\n",
    "z_dim = 64\n",
    "image_dim = 784\n",
    "lr = 3e-4\n",
    "EPOCHS = 50\n",
    "BATCH_SIZE = 100\n",
    "USE_CUDA = torch.cuda.is_available()\n",
    "DEVICE = torch.device(\"cuda\" if USE_CUDA else \"cpu\")"
   ]
  },
  {
   "cell_type": "code",
   "execution_count": 60,
   "metadata": {},
   "outputs": [
    {
     "name": "stdout",
     "output_type": "stream",
     "text": [
      "Downloading http://fashion-mnist.s3-website.eu-central-1.amazonaws.com/train-images-idx3-ubyte.gz\n",
      "Downloading http://fashion-mnist.s3-website.eu-central-1.amazonaws.com/train-images-idx3-ubyte.gz to ../PaperWithCode/FashionMNIST\\raw\\train-images-idx3-ubyte.gz\n"
     ]
    },
    {
     "name": "stderr",
     "output_type": "stream",
     "text": [
      "100%|██████████| 26421880/26421880 [00:20<00:00, 1273338.61it/s]\n"
     ]
    },
    {
     "name": "stdout",
     "output_type": "stream",
     "text": [
      "Extracting ../PaperWithCode/FashionMNIST\\raw\\train-images-idx3-ubyte.gz to ../PaperWithCode/FashionMNIST\\raw\n",
      "\n",
      "Downloading http://fashion-mnist.s3-website.eu-central-1.amazonaws.com/train-labels-idx1-ubyte.gz\n",
      "Downloading http://fashion-mnist.s3-website.eu-central-1.amazonaws.com/train-labels-idx1-ubyte.gz to ../PaperWithCode/FashionMNIST\\raw\\train-labels-idx1-ubyte.gz\n"
     ]
    },
    {
     "name": "stderr",
     "output_type": "stream",
     "text": [
      "100%|██████████| 29515/29515 [00:00<00:00, 107674.41it/s]\n"
     ]
    },
    {
     "name": "stdout",
     "output_type": "stream",
     "text": [
      "Extracting ../PaperWithCode/FashionMNIST\\raw\\train-labels-idx1-ubyte.gz to ../PaperWithCode/FashionMNIST\\raw\n",
      "\n",
      "Downloading http://fashion-mnist.s3-website.eu-central-1.amazonaws.com/t10k-images-idx3-ubyte.gz\n",
      "Downloading http://fashion-mnist.s3-website.eu-central-1.amazonaws.com/t10k-images-idx3-ubyte.gz to ../PaperWithCode/FashionMNIST\\raw\\t10k-images-idx3-ubyte.gz\n"
     ]
    },
    {
     "name": "stderr",
     "output_type": "stream",
     "text": [
      "100%|██████████| 4422102/4422102 [00:06<00:00, 717240.42it/s] \n"
     ]
    },
    {
     "name": "stdout",
     "output_type": "stream",
     "text": [
      "Extracting ../PaperWithCode/FashionMNIST\\raw\\t10k-images-idx3-ubyte.gz to ../PaperWithCode/FashionMNIST\\raw\n",
      "\n",
      "Downloading http://fashion-mnist.s3-website.eu-central-1.amazonaws.com/t10k-labels-idx1-ubyte.gz\n",
      "Downloading http://fashion-mnist.s3-website.eu-central-1.amazonaws.com/t10k-labels-idx1-ubyte.gz to ../PaperWithCode/FashionMNIST\\raw\\t10k-labels-idx1-ubyte.gz\n"
     ]
    },
    {
     "name": "stderr",
     "output_type": "stream",
     "text": [
      "100%|██████████| 5148/5148 [00:00<00:00, 5149601.00it/s]"
     ]
    },
    {
     "name": "stdout",
     "output_type": "stream",
     "text": [
      "Extracting ../PaperWithCode/FashionMNIST\\raw\\t10k-labels-idx1-ubyte.gz to ../PaperWithCode/FashionMNIST\\raw\n",
      "\n"
     ]
    },
    {
     "name": "stderr",
     "output_type": "stream",
     "text": [
      "\n"
     ]
    }
   ],
   "source": [
    "trainset = datasets.FashionMNIST(\n",
    "    root = '../PaperWithCode/',\n",
    "    download=True,\n",
    "    train = True,\n",
    "    transform = transforms.Compose([\n",
    "                transforms.ToTensor(),\n",
    "                transforms.Normalize((0.5,),(0.5))\n",
    "    ])\n",
    ")\n",
    "\n",
    "train_loader = DataLoader(\n",
    "    dataset=trainset,\n",
    "    batch_size=BATCH_SIZE,\n",
    "    shuffle=True\n",
    ")"
   ]
  },
  {
   "cell_type": "code",
   "execution_count": 61,
   "metadata": {},
   "outputs": [],
   "source": [
    "class Generator(nn.Module):\n",
    "    def __init__(self,z_dim,img_dim):\n",
    "        super().__init__()\n",
    "\n",
    "        self.gen = nn.Sequential(\n",
    "            nn.Linear(64, 256),\n",
    "            nn.ReLU(),\n",
    "            nn.Linear(256, 256),\n",
    "            nn.ReLU(),\n",
    "            nn.Linear(256, 784),\n",
    "            nn.Tanh()\n",
    "        )\n",
    "    \n",
    "    def forward(self, z):\n",
    "        return self.gen(z)"
   ]
  },
  {
   "cell_type": "code",
   "execution_count": 75,
   "metadata": {},
   "outputs": [],
   "source": [
    "class Discriminator(nn.Module):\n",
    "    def __init__(self, img_dim):\n",
    "        super().__init__()\n",
    "        \n",
    "        self.dis = nn.Sequential(\n",
    "            nn.Linear(784, 256),\n",
    "            nn.LeakyReLU(0.2),\n",
    "            nn.Linear(256, 256),\n",
    "            nn.LeakyReLU(0.2),\n",
    "            nn.Linear(256, 1),\n",
    "            nn.Sigmoid()\n",
    "        )\n",
    "        \n",
    "    def forward(self, x):\n",
    "        return self.dis(x)"
   ]
  },
  {
   "cell_type": "code",
   "execution_count": 76,
   "metadata": {},
   "outputs": [],
   "source": [
    "G = Generator(z_dim,image_dim).to(DEVICE)\n",
    "D = Discriminator(image_dim).to(DEVICE)\n",
    "d_optimizer = optim.Adam(D.parameters(), lr = 0.0002)\n",
    "g_optimizer = optim.Adam(G.parameters(), lr = 0.0002)\n",
    "criterion = nn.BCELoss() "
   ]
  },
  {
   "cell_type": "code",
   "execution_count": 77,
   "metadata": {},
   "outputs": [],
   "source": [
    "import os\n",
    "from torchvision.utils import save_image\n",
    "\n",
    "dir_name = \"GAN_results\"\n",
    "\n",
    "# Create a directory for saving samples\n",
    "if not os.path.exists(dir_name):\n",
    "    os.makedirs(dir_name)"
   ]
  },
  {
   "cell_type": "code",
   "execution_count": 89,
   "metadata": {},
   "outputs": [
    {
     "name": "stdout",
     "output_type": "stream",
     "text": [
      "Epoch [0/50], d_loss: 0.0406, g_loss: 4.7338, D(x): 0.99, D(G(z)): 0.03\n",
      "Epoch [1/50], d_loss: 0.0461, g_loss: 4.7364, D(x): 0.99, D(G(z)): 0.02\n",
      "Epoch [2/50], d_loss: 0.1423, g_loss: 10.3365, D(x): 0.96, D(G(z)): 0.00\n",
      "Epoch [3/50], d_loss: 0.0673, g_loss: 6.5878, D(x): 0.97, D(G(z)): 0.02\n",
      "Epoch [4/50], d_loss: 0.0757, g_loss: 7.7468, D(x): 0.98, D(G(z)): 0.03\n",
      "Epoch [5/50], d_loss: 0.0236, g_loss: 8.3082, D(x): 0.99, D(G(z)): 0.01\n",
      "Epoch [6/50], d_loss: 0.2538, g_loss: 6.8520, D(x): 0.92, D(G(z)): 0.00\n",
      "Epoch [7/50], d_loss: 0.1772, g_loss: 4.4231, D(x): 0.97, D(G(z)): 0.08\n",
      "Epoch [8/50], d_loss: 0.1949, g_loss: 5.7602, D(x): 0.94, D(G(z)): 0.01\n",
      "Epoch [9/50], d_loss: 0.1588, g_loss: 5.0980, D(x): 0.94, D(G(z)): 0.04\n",
      "Epoch [10/50], d_loss: 0.1571, g_loss: 5.1245, D(x): 0.94, D(G(z)): 0.03\n",
      "Epoch [11/50], d_loss: 0.3053, g_loss: 3.9137, D(x): 0.94, D(G(z)): 0.11\n",
      "Epoch [12/50], d_loss: 0.1925, g_loss: 5.3882, D(x): 0.96, D(G(z)): 0.04\n",
      "Epoch [13/50], d_loss: 0.3306, g_loss: 5.4865, D(x): 0.87, D(G(z)): 0.03\n",
      "Epoch [14/50], d_loss: 0.2350, g_loss: 4.0541, D(x): 0.92, D(G(z)): 0.07\n",
      "Epoch [15/50], d_loss: 0.3649, g_loss: 4.1555, D(x): 0.91, D(G(z)): 0.08\n",
      "Epoch [16/50], d_loss: 0.3217, g_loss: 3.4217, D(x): 0.94, D(G(z)): 0.14\n",
      "Epoch [17/50], d_loss: 0.4355, g_loss: 3.3585, D(x): 0.91, D(G(z)): 0.16\n",
      "Epoch [18/50], d_loss: 0.3158, g_loss: 3.2450, D(x): 0.93, D(G(z)): 0.14\n",
      "Epoch [19/50], d_loss: 0.2345, g_loss: 4.0233, D(x): 0.92, D(G(z)): 0.09\n",
      "Epoch [20/50], d_loss: 0.3633, g_loss: 4.3934, D(x): 0.88, D(G(z)): 0.06\n",
      "Epoch [21/50], d_loss: 0.5393, g_loss: 3.1876, D(x): 0.83, D(G(z)): 0.17\n",
      "Epoch [22/50], d_loss: 0.5424, g_loss: 3.1424, D(x): 0.82, D(G(z)): 0.13\n",
      "Epoch [23/50], d_loss: 0.3478, g_loss: 2.7338, D(x): 0.91, D(G(z)): 0.16\n",
      "Epoch [24/50], d_loss: 0.5213, g_loss: 2.6797, D(x): 0.84, D(G(z)): 0.14\n",
      "Epoch [25/50], d_loss: 0.4708, g_loss: 3.5040, D(x): 0.88, D(G(z)): 0.17\n",
      "Epoch [26/50], d_loss: 0.4564, g_loss: 2.9111, D(x): 0.86, D(G(z)): 0.15\n",
      "Epoch [27/50], d_loss: 0.3021, g_loss: 3.3225, D(x): 0.91, D(G(z)): 0.13\n",
      "Epoch [28/50], d_loss: 0.5260, g_loss: 3.9800, D(x): 0.83, D(G(z)): 0.11\n",
      "Epoch [29/50], d_loss: 0.6397, g_loss: 2.6396, D(x): 0.84, D(G(z)): 0.21\n",
      "Epoch [30/50], d_loss: 0.3903, g_loss: 3.6683, D(x): 0.86, D(G(z)): 0.10\n",
      "Epoch [31/50], d_loss: 0.6274, g_loss: 3.3607, D(x): 0.86, D(G(z)): 0.18\n",
      "Epoch [32/50], d_loss: 0.3635, g_loss: 3.3876, D(x): 0.87, D(G(z)): 0.13\n",
      "Epoch [33/50], d_loss: 0.5389, g_loss: 2.7698, D(x): 0.86, D(G(z)): 0.20\n",
      "Epoch [34/50], d_loss: 0.8784, g_loss: 4.0122, D(x): 0.73, D(G(z)): 0.09\n",
      "Epoch [35/50], d_loss: 0.6498, g_loss: 3.2564, D(x): 0.83, D(G(z)): 0.20\n",
      "Epoch [36/50], d_loss: 0.6689, g_loss: 3.1258, D(x): 0.84, D(G(z)): 0.24\n",
      "Epoch [37/50], d_loss: 0.4494, g_loss: 2.8435, D(x): 0.90, D(G(z)): 0.18\n",
      "Epoch [38/50], d_loss: 0.4519, g_loss: 2.5804, D(x): 0.90, D(G(z)): 0.20\n",
      "Epoch [39/50], d_loss: 0.5194, g_loss: 2.8931, D(x): 0.84, D(G(z)): 0.20\n",
      "Epoch [40/50], d_loss: 0.5925, g_loss: 2.2854, D(x): 0.82, D(G(z)): 0.19\n",
      "Epoch [41/50], d_loss: 0.6419, g_loss: 2.6111, D(x): 0.78, D(G(z)): 0.17\n",
      "Epoch [42/50], d_loss: 0.4303, g_loss: 3.0861, D(x): 0.84, D(G(z)): 0.14\n",
      "Epoch [43/50], d_loss: 0.4787, g_loss: 2.4858, D(x): 0.82, D(G(z)): 0.17\n",
      "Epoch [44/50], d_loss: 0.7369, g_loss: 2.3094, D(x): 0.79, D(G(z)): 0.21\n",
      "Epoch [45/50], d_loss: 0.6878, g_loss: 3.1489, D(x): 0.73, D(G(z)): 0.11\n",
      "Epoch [46/50], d_loss: 0.6466, g_loss: 3.0539, D(x): 0.76, D(G(z)): 0.15\n",
      "Epoch [47/50], d_loss: 0.4902, g_loss: 2.4927, D(x): 0.82, D(G(z)): 0.16\n",
      "Epoch [48/50], d_loss: 0.7101, g_loss: 2.3159, D(x): 0.74, D(G(z)): 0.19\n",
      "Epoch [49/50], d_loss: 0.7062, g_loss: 2.9658, D(x): 0.75, D(G(z)): 0.13\n"
     ]
    }
   ],
   "source": [
    "total_step = len(train_loader)\n",
    "for epoch in range(EPOCHS):\n",
    "    for i, (images, _) in enumerate(train_loader):\n",
    "        images = images.reshape(BATCH_SIZE, -1).to(DEVICE)  #[100,786]\n",
    "        \n",
    "        # '진짜'와 '가짜' 레이블 생성\n",
    "        real_labels = torch.ones(BATCH_SIZE, 1).to(DEVICE)  #[100,1]\n",
    "        fake_labels = torch.zeros(BATCH_SIZE, 1).to(DEVICE) #[100,1]\n",
    "        \n",
    "        # 판별자가 진짜 이미지를 진짜로 인식하는 오차를 예산\n",
    "        outputs = D(images)                                 #[100,1]\n",
    "        d_loss_real = criterion(outputs, real_labels)\n",
    "        real_score = outputs\n",
    "        \n",
    "        # 무작위 텐서로 가짜 이미지 생성\n",
    "        z = torch.randn(BATCH_SIZE, 64).to(DEVICE)\n",
    "        fake_images = G(z)\n",
    "        \n",
    "        # 판별자가 가짜 이미지를 가짜로 인식하는 오차를 계산\n",
    "        outputs = D(fake_images)\n",
    "        d_loss_fake = criterion(outputs, fake_labels)\n",
    "        fake_score = outputs\n",
    "        \n",
    "        # 진짜와 가짜 이미지를 갖고 낸 오차를 더해서 판별자의 오차 계산\n",
    "        d_loss = d_loss_real + d_loss_fake\n",
    "\n",
    "        # 역전파 알고리즘으로 판별자 모델의 학습을 진행\n",
    "        d_optimizer.zero_grad()\n",
    "        g_optimizer.zero_grad()\n",
    "        d_loss.backward()\n",
    "        d_optimizer.step()\n",
    "        \n",
    "        # 생성자가 판별자를 속였는지에 대한 오차를 계산\n",
    "        fake_images = G(z)\n",
    "        outputs = D(fake_images)\n",
    "        g_loss = criterion(outputs, real_labels)\n",
    "        \n",
    "        # 역전파 알고리즘으로 생성자 모델의 학습을 진행\n",
    "        d_optimizer.zero_grad()\n",
    "        g_optimizer.zero_grad()\n",
    "        g_loss.backward()\n",
    "        g_optimizer.step()\n",
    "        \n",
    "    # 학습 진행 알아보기\n",
    "    print('Epoch [{}/{}], d_loss: {:.4f}, g_loss: {:.4f}, D(x): {:.2f}, D(G(z)): {:.2f}' \n",
    "          .format(epoch, EPOCHS, d_loss.item(), g_loss.item(), \n",
    "                  real_score.mean().item(), fake_score.mean().item()))"
   ]
  },
  {
   "cell_type": "code",
   "execution_count": null,
   "metadata": {},
   "outputs": [],
   "source": []
  }
 ],
 "metadata": {
  "kernelspec": {
   "display_name": "study",
   "language": "python",
   "name": "python3"
  },
  "language_info": {
   "codemirror_mode": {
    "name": "ipython",
    "version": 3
   },
   "file_extension": ".py",
   "mimetype": "text/x-python",
   "name": "python",
   "nbconvert_exporter": "python",
   "pygments_lexer": "ipython3",
   "version": "3.8.13"
  },
  "orig_nbformat": 4,
  "vscode": {
   "interpreter": {
    "hash": "b95e14a29c87abba40257a007338f98af2158a41920ff0be4179e59f4eab7590"
   }
  }
 },
 "nbformat": 4,
 "nbformat_minor": 2
}
