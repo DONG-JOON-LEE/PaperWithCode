{
 "cells": [
  {
   "cell_type": "code",
   "execution_count": 1,
   "metadata": {},
   "outputs": [],
   "source": [
    "import numpy as np \n",
    "import matplotlib.pyplot as plt \n",
    "import torch\n",
    "import pandas as pd\n",
    "import torch.optim as optim\n",
    "import math\n",
    "import torch.nn as nn\n",
    "import torch.optim as optim\n",
    "from sklearn.model_selection import train_test_split\n",
    "from torch.utils.data import Dataset,DataLoader\n",
    "from scipy.stats import norm\n",
    "from torchvision import datasets, transforms, utils"
   ]
  },
  {
   "attachments": {},
   "cell_type": "markdown",
   "metadata": {},
   "source": [
    "# Data"
   ]
  },
  {
   "cell_type": "code",
   "execution_count": 2,
   "metadata": {},
   "outputs": [],
   "source": [
    "train_set_raw = datasets.MNIST(\n",
    "    root = './data/MNIST',\n",
    "    train = True,\n",
    "    download = True,\n",
    "    transform = transforms.Compose([\n",
    "        transforms.ToTensor(),\n",
    "    ])\n",
    ")\n",
    "test_set_raw = datasets.MNIST(\n",
    "    root = './data/MNIST',\n",
    "    train = False,\n",
    "    download = True,\n",
    "    transform = transforms.Compose([\n",
    "        transforms.ToTensor(),\n",
    "    ])\n",
    ")\n",
    "train_set = list(filter(lambda i: i[1] == 3 or i[1]==8 , train_set_raw))\n",
    "test_set = list(filter(lambda i: i[1] == 3 or i[1]==8 , test_set_raw))\n"
   ]
  },
  {
   "cell_type": "code",
   "execution_count": 3,
   "metadata": {},
   "outputs": [],
   "source": [
    "for i in range(len(train_set)): \n",
    "    if train_set[i][1]==3:\n",
    "        lst=list(train_set[i])\n",
    "        lst.append(0)\n",
    "        lst.pop(1)\n",
    "        train_set[i] = tuple(lst)\n",
    "\n",
    "    elif train_set[i][1]==8:\n",
    "        lst=list(train_set[i])\n",
    "        lst.append(1)\n",
    "        lst.pop(1)\n",
    "        train_set[i] = tuple(lst)\n",
    "    \n",
    "    else :\n",
    "        pass\n",
    "        "
   ]
  },
  {
   "cell_type": "code",
   "execution_count": 4,
   "metadata": {},
   "outputs": [
    {
     "data": {
      "text/plain": [
       "0"
      ]
     },
     "execution_count": 4,
     "metadata": {},
     "output_type": "execute_result"
    }
   ],
   "source": [
    "train_set[8][1]"
   ]
  },
  {
   "cell_type": "code",
   "execution_count": 5,
   "metadata": {},
   "outputs": [],
   "source": [
    "train_loader = DataLoader(train_set, batch_size=32,shuffle=True)\n",
    "test_loader = DataLoader(test_set, batch_size=32,shuffle=True)"
   ]
  },
  {
   "attachments": {},
   "cell_type": "markdown",
   "metadata": {},
   "source": [
    "# HyperParameter"
   ]
  },
  {
   "cell_type": "code",
   "execution_count": 6,
   "metadata": {},
   "outputs": [],
   "source": [
    "EPOCHS = 150"
   ]
  },
  {
   "attachments": {},
   "cell_type": "markdown",
   "metadata": {},
   "source": [
    "# Feature Selector"
   ]
  },
  {
   "cell_type": "code",
   "execution_count": 7,
   "metadata": {},
   "outputs": [],
   "source": [
    "class FeatureSelector(nn.Module):\n",
    "    def __init__(self, input_dim=784):\n",
    "        super(FeatureSelector, self).__init__()\n",
    "        self.mu = torch.nn.Parameter(0.01*torch.randn(input_dim, ), requires_grad=True)\n",
    "        self.noise = torch.randn(self.mu.size()) \n",
    "        self.sigma = 0.5  \n",
    "    \n",
    "    def forward(self, prev_x):\n",
    "        z = self.mu + self.sigma*self.noise.normal_()\n",
    "        stochastic_gate = self.hard_sigmoid(z)\n",
    "        new_x = prev_x * stochastic_gate\n",
    "        return new_x\n",
    "    \n",
    "    def hard_sigmoid(self, x):\n",
    "        return torch.clamp(x+0.5, 0.0, 1.0)\n",
    "\n",
    "    def regularizer(self):\n",
    "        ''' Gaussian CDF. '''\n",
    "        # torch.erf(x / math.sqrt(2))\n",
    "        x = ( self.mu + 0.5 ) / self.sigma\n",
    "        return 0.5 * (1 + torch.erf(x / math.sqrt(2))) \n",
    "\n",
    "    def get_gates(self):\n",
    "        # 실제 gate 값 출력 \n",
    "        # feature selection 여부 확인\n",
    "        return self.mu.detach().cpu().numpy(), np.minimum(1.0, np.maximum(0.0, self.mu.detach().cpu().numpy() + 0.5)) "
   ]
  },
  {
   "attachments": {},
   "cell_type": "markdown",
   "metadata": {},
   "source": [
    "# Model"
   ]
  },
  {
   "cell_type": "code",
   "execution_count": 8,
   "metadata": {},
   "outputs": [],
   "source": [
    "feature_selector = FeatureSelector()"
   ]
  },
  {
   "cell_type": "code",
   "execution_count": 9,
   "metadata": {},
   "outputs": [],
   "source": [
    "class original(nn.Module):\n",
    "    def __init__(self):\n",
    "        super().__init__()\n",
    "        self.NN =nn.Sequential(\n",
    "            nn.Linear(784,256),\n",
    "            nn.ReLU(),\n",
    "            nn.Linear(256,256),\n",
    "            nn.ReLU(),\n",
    "            nn.Linear(256,128),\n",
    "            nn.ReLU(),\n",
    "            nn.Linear(128,2),\n",
    "            nn.Sigmoid()\n",
    "        )\n",
    "\n",
    "        \n",
    "    def forward(self,x):\n",
    "        x = x.view(-1,784)\n",
    "        x = self.NN(x)\n",
    "        return x"
   ]
  },
  {
   "cell_type": "code",
   "execution_count": 10,
   "metadata": {},
   "outputs": [],
   "source": [
    "class NET(nn.Module):\n",
    "    def __init__(self):\n",
    "        super().__init__()\n",
    "        self.NN =nn.Sequential(\n",
    "            nn.Linear(784,256),\n",
    "            nn.ReLU(),\n",
    "            nn.Linear(256,256),\n",
    "            nn.ReLU(),\n",
    "            nn.Linear(256,128),\n",
    "            nn.ReLU(),\n",
    "            nn.Linear(128,2),\n",
    "            nn.Sigmoid()\n",
    "        )\n",
    "        self.feature_selector = feature_selector\n",
    "        self.regularizer = feature_selector.regularizer\n",
    "        self.get_gates = feature_selector.get_gates\n",
    "        \n",
    "    def forward(self,x):\n",
    "        x = x.view(-1,784)\n",
    "        x = feature_selector(x)\n",
    "        x = self.NN(x)\n",
    "        return x"
   ]
  },
  {
   "cell_type": "code",
   "execution_count": 11,
   "metadata": {},
   "outputs": [],
   "source": [
    "model = NET()\n",
    "criterion = torch.nn.CrossEntropyLoss()\n",
    "optimizer = optim.Adam(model.parameters(), lr = 1e-4)"
   ]
  },
  {
   "cell_type": "code",
   "execution_count": 12,
   "metadata": {},
   "outputs": [],
   "source": [
    "def train(model, train_loader, optimizer, criterion):\n",
    "    model.train()\n",
    "    train_loss = 0 \n",
    "   \n",
    "    for data, target in train_loader:\n",
    "        input_x, target_x = data, target\n",
    "\n",
    "        optimizer.zero_grad()\n",
    "        output = model(input_x)\n",
    "        regularizer = torch.mean(model.regularizer())\n",
    "        loss = criterion(output,target_x) + 0.25 * regularizer \n",
    "        loss.backward()\n",
    "        optimizer.step()\n",
    "        train_loss += loss.item()\n",
    "    train_loss /= len(train_loader)\n",
    "    return train_loss"
   ]
  },
  {
   "cell_type": "code",
   "execution_count": 13,
   "metadata": {},
   "outputs": [
    {
     "name": "stdout",
     "output_type": "stream",
     "text": [
      "[EPOCH: 0], \tTrain Loss: 0.6723\n",
      "[EPOCH: 1], \tTrain Loss: 0.5658\n",
      "[EPOCH: 2], \tTrain Loss: 0.5596\n",
      "[EPOCH: 3], \tTrain Loss: 0.5522\n",
      "[EPOCH: 4], \tTrain Loss: 0.5466\n",
      "[EPOCH: 5], \tTrain Loss: 0.5415\n",
      "[EPOCH: 6], \tTrain Loss: 0.5338\n",
      "[EPOCH: 7], \tTrain Loss: 0.5302\n",
      "[EPOCH: 8], \tTrain Loss: 0.5244\n",
      "[EPOCH: 9], \tTrain Loss: 0.5173\n",
      "[EPOCH: 10], \tTrain Loss: 0.5126\n",
      "[EPOCH: 11], \tTrain Loss: 0.5047\n",
      "[EPOCH: 12], \tTrain Loss: 0.5022\n",
      "[EPOCH: 13], \tTrain Loss: 0.4965\n",
      "[EPOCH: 14], \tTrain Loss: 0.4910\n",
      "[EPOCH: 15], \tTrain Loss: 0.4870\n",
      "[EPOCH: 16], \tTrain Loss: 0.4824\n",
      "[EPOCH: 17], \tTrain Loss: 0.4779\n",
      "[EPOCH: 18], \tTrain Loss: 0.4733\n",
      "[EPOCH: 19], \tTrain Loss: 0.4698\n",
      "[EPOCH: 20], \tTrain Loss: 0.4664\n",
      "[EPOCH: 21], \tTrain Loss: 0.4626\n",
      "[EPOCH: 22], \tTrain Loss: 0.4593\n",
      "[EPOCH: 23], \tTrain Loss: 0.4564\n",
      "[EPOCH: 24], \tTrain Loss: 0.4525\n",
      "[EPOCH: 25], \tTrain Loss: 0.4499\n",
      "[EPOCH: 26], \tTrain Loss: 0.4472\n",
      "[EPOCH: 27], \tTrain Loss: 0.4449\n",
      "[EPOCH: 28], \tTrain Loss: 0.4419\n",
      "[EPOCH: 29], \tTrain Loss: 0.4397\n",
      "[EPOCH: 30], \tTrain Loss: 0.4363\n",
      "[EPOCH: 31], \tTrain Loss: 0.4353\n",
      "[EPOCH: 32], \tTrain Loss: 0.4335\n",
      "[EPOCH: 33], \tTrain Loss: 0.4300\n",
      "[EPOCH: 34], \tTrain Loss: 0.4296\n",
      "[EPOCH: 35], \tTrain Loss: 0.4270\n",
      "[EPOCH: 36], \tTrain Loss: 0.4251\n",
      "[EPOCH: 37], \tTrain Loss: 0.4237\n",
      "[EPOCH: 38], \tTrain Loss: 0.4224\n",
      "[EPOCH: 39], \tTrain Loss: 0.4209\n",
      "[EPOCH: 40], \tTrain Loss: 0.4195\n",
      "[EPOCH: 41], \tTrain Loss: 0.4183\n",
      "[EPOCH: 42], \tTrain Loss: 0.4163\n",
      "[EPOCH: 43], \tTrain Loss: 0.4144\n",
      "[EPOCH: 44], \tTrain Loss: 0.4139\n",
      "[EPOCH: 45], \tTrain Loss: 0.4146\n",
      "[EPOCH: 46], \tTrain Loss: 0.4117\n",
      "[EPOCH: 47], \tTrain Loss: 0.4121\n",
      "[EPOCH: 48], \tTrain Loss: 0.4092\n",
      "[EPOCH: 49], \tTrain Loss: 0.4096\n",
      "[EPOCH: 50], \tTrain Loss: 0.4079\n",
      "[EPOCH: 51], \tTrain Loss: 0.4069\n",
      "[EPOCH: 52], \tTrain Loss: 0.4066\n",
      "[EPOCH: 53], \tTrain Loss: 0.4063\n",
      "[EPOCH: 54], \tTrain Loss: 0.4047\n",
      "[EPOCH: 55], \tTrain Loss: 0.4038\n",
      "[EPOCH: 56], \tTrain Loss: 0.4029\n",
      "[EPOCH: 57], \tTrain Loss: 0.4024\n",
      "[EPOCH: 58], \tTrain Loss: 0.4016\n",
      "[EPOCH: 59], \tTrain Loss: 0.4006\n",
      "[EPOCH: 60], \tTrain Loss: 0.4003\n",
      "[EPOCH: 61], \tTrain Loss: 0.4001\n",
      "[EPOCH: 62], \tTrain Loss: 0.3978\n",
      "[EPOCH: 63], \tTrain Loss: 0.3982\n",
      "[EPOCH: 64], \tTrain Loss: 0.3977\n",
      "[EPOCH: 65], \tTrain Loss: 0.3966\n",
      "[EPOCH: 66], \tTrain Loss: 0.3965\n",
      "[EPOCH: 67], \tTrain Loss: 0.3956\n",
      "[EPOCH: 68], \tTrain Loss: 0.3950\n",
      "[EPOCH: 69], \tTrain Loss: 0.3943\n",
      "[EPOCH: 70], \tTrain Loss: 0.3944\n",
      "[EPOCH: 71], \tTrain Loss: 0.3943\n",
      "[EPOCH: 72], \tTrain Loss: 0.3932\n",
      "[EPOCH: 73], \tTrain Loss: 0.3916\n",
      "[EPOCH: 74], \tTrain Loss: 0.3912\n",
      "[EPOCH: 75], \tTrain Loss: 0.3914\n",
      "[EPOCH: 76], \tTrain Loss: 0.3908\n",
      "[EPOCH: 77], \tTrain Loss: 0.3907\n",
      "[EPOCH: 78], \tTrain Loss: 0.3902\n",
      "[EPOCH: 79], \tTrain Loss: 0.3896\n",
      "[EPOCH: 80], \tTrain Loss: 0.3897\n",
      "[EPOCH: 81], \tTrain Loss: 0.3887\n",
      "[EPOCH: 82], \tTrain Loss: 0.3877\n",
      "[EPOCH: 83], \tTrain Loss: 0.3882\n",
      "[EPOCH: 84], \tTrain Loss: 0.3875\n",
      "[EPOCH: 85], \tTrain Loss: 0.3874\n",
      "[EPOCH: 86], \tTrain Loss: 0.3869\n",
      "[EPOCH: 87], \tTrain Loss: 0.3855\n",
      "[EPOCH: 88], \tTrain Loss: 0.3856\n",
      "[EPOCH: 89], \tTrain Loss: 0.3858\n",
      "[EPOCH: 90], \tTrain Loss: 0.3846\n",
      "[EPOCH: 91], \tTrain Loss: 0.3837\n",
      "[EPOCH: 92], \tTrain Loss: 0.3843\n",
      "[EPOCH: 93], \tTrain Loss: 0.3835\n",
      "[EPOCH: 94], \tTrain Loss: 0.3829\n",
      "[EPOCH: 95], \tTrain Loss: 0.3835\n",
      "[EPOCH: 96], \tTrain Loss: 0.3826\n",
      "[EPOCH: 97], \tTrain Loss: 0.3824\n",
      "[EPOCH: 98], \tTrain Loss: 0.3820\n",
      "[EPOCH: 99], \tTrain Loss: 0.3815\n",
      "[EPOCH: 100], \tTrain Loss: 0.3816\n",
      "[EPOCH: 101], \tTrain Loss: 0.3804\n",
      "[EPOCH: 102], \tTrain Loss: 0.3816\n",
      "[EPOCH: 103], \tTrain Loss: 0.3802\n",
      "[EPOCH: 104], \tTrain Loss: 0.3790\n",
      "[EPOCH: 105], \tTrain Loss: 0.3807\n",
      "[EPOCH: 106], \tTrain Loss: 0.3784\n",
      "[EPOCH: 107], \tTrain Loss: 0.3792\n",
      "[EPOCH: 108], \tTrain Loss: 0.3773\n",
      "[EPOCH: 109], \tTrain Loss: 0.3777\n",
      "[EPOCH: 110], \tTrain Loss: 0.3779\n",
      "[EPOCH: 111], \tTrain Loss: 0.3776\n",
      "[EPOCH: 112], \tTrain Loss: 0.3773\n",
      "[EPOCH: 113], \tTrain Loss: 0.3767\n",
      "[EPOCH: 114], \tTrain Loss: 0.3772\n",
      "[EPOCH: 115], \tTrain Loss: 0.3760\n",
      "[EPOCH: 116], \tTrain Loss: 0.3770\n",
      "[EPOCH: 117], \tTrain Loss: 0.3766\n",
      "[EPOCH: 118], \tTrain Loss: 0.3763\n",
      "[EPOCH: 119], \tTrain Loss: 0.3743\n",
      "[EPOCH: 120], \tTrain Loss: 0.3752\n",
      "[EPOCH: 121], \tTrain Loss: 0.3747\n",
      "[EPOCH: 122], \tTrain Loss: 0.3751\n",
      "[EPOCH: 123], \tTrain Loss: 0.3748\n",
      "[EPOCH: 124], \tTrain Loss: 0.3740\n",
      "[EPOCH: 125], \tTrain Loss: 0.3727\n",
      "[EPOCH: 126], \tTrain Loss: 0.3729\n",
      "[EPOCH: 127], \tTrain Loss: 0.3736\n",
      "[EPOCH: 128], \tTrain Loss: 0.3720\n",
      "[EPOCH: 129], \tTrain Loss: 0.3726\n",
      "[EPOCH: 130], \tTrain Loss: 0.3721\n",
      "[EPOCH: 131], \tTrain Loss: 0.3713\n",
      "[EPOCH: 132], \tTrain Loss: 0.3716\n",
      "[EPOCH: 133], \tTrain Loss: 0.3718\n",
      "[EPOCH: 134], \tTrain Loss: 0.3713\n",
      "[EPOCH: 135], \tTrain Loss: 0.3714\n",
      "[EPOCH: 136], \tTrain Loss: 0.3711\n",
      "[EPOCH: 137], \tTrain Loss: 0.3705\n",
      "[EPOCH: 138], \tTrain Loss: 0.3714\n",
      "[EPOCH: 139], \tTrain Loss: 0.3685\n",
      "[EPOCH: 140], \tTrain Loss: 0.3691\n",
      "[EPOCH: 141], \tTrain Loss: 0.3685\n",
      "[EPOCH: 142], \tTrain Loss: 0.3695\n",
      "[EPOCH: 143], \tTrain Loss: 0.3684\n",
      "[EPOCH: 144], \tTrain Loss: 0.3694\n",
      "[EPOCH: 145], \tTrain Loss: 0.3685\n",
      "[EPOCH: 146], \tTrain Loss: 0.3687\n",
      "[EPOCH: 147], \tTrain Loss: 0.3679\n",
      "[EPOCH: 148], \tTrain Loss: 0.3690\n",
      "[EPOCH: 149], \tTrain Loss: 0.3668\n",
      "[EPOCH: 150], \tTrain Loss: 0.3679\n"
     ]
    }
   ],
   "source": [
    "result_list = []\n",
    "for epoch in range(0, EPOCHS + 1):\n",
    "  train_loss=train(model, train_loader,optimizer,criterion)\n",
    "  #val_loss = evaluate(model, test_loader,criterion)\n",
    "  print(f\"[EPOCH: {epoch}], \\tTrain Loss: {train_loss:.4f}\")\n",
    "  result = {\n",
    "    'EPOCH': epoch,\n",
    "    'Train Loss': train_loss,\n",
    "    #'Val Loss': val_loss,\n",
    "    #'Val Accuracy': val_accuracy\n",
    "    }\n",
    "  \n",
    "  result_list.append(result)\n",
    "result_df = pd.DataFrame(result_list)\n"
   ]
  },
  {
   "cell_type": "code",
   "execution_count": 14,
   "metadata": {},
   "outputs": [
    {
     "data": {
      "text/plain": [
       "<AxesSubplot: >"
      ]
     },
     "execution_count": 14,
     "metadata": {},
     "output_type": "execute_result"
    },
    {
     "data": {
      "image/png": "[encoded data removed]",
      "text/plain": [
       "<Figure size 640x480 with 1 Axes>"
      ]
     },
     "metadata": {},
     "output_type": "display_data"
    }
   ],
   "source": [
    "result_df['Train Loss'].plot()"
   ]
  },
  {
   "cell_type": "code",
   "execution_count": 15,
   "metadata": {},
   "outputs": [
    {
     "name": "stdout",
     "output_type": "stream",
     "text": [
      " prob :  [0.         0.         0.         0.         0.         0.\n",
      " 0.         0.         0.         0.         0.         0.\n",
      " 0.         0.         0.         0.         0.         0.\n",
      " 0.         0.         0.         0.         0.         0.\n",
      " 0.         0.         0.         0.         0.         0.\n",
      " 0.         0.         0.         0.         0.         0.\n",
      " 0.         0.         0.         0.         0.         0.\n",
      " 0.         0.         0.         0.         0.         0.\n",
      " 0.         0.         0.         0.         0.         0.\n",
      " 0.         0.         0.         0.         0.         0.\n",
      " 0.         0.         0.         0.         0.         0.\n",
      " 0.         0.         0.         0.         0.         0.\n",
      " 0.         0.         0.         0.         0.         0.\n",
      " 0.         0.         0.         0.         0.         0.\n",
      " 0.         0.         0.         0.         0.         0.\n",
      " 0.         0.         0.         0.         0.         0.\n",
      " 0.         0.         0.         0.         0.         0.\n",
      " 0.         0.         0.         0.         0.         0.\n",
      " 0.         0.         0.         0.         0.         0.\n",
      " 0.         0.         0.         0.         0.         0.\n",
      " 0.         0.         0.         0.         0.         0.\n",
      " 0.         0.         0.         0.         0.         0.\n",
      " 0.         0.         0.         0.         0.         0.\n",
      " 0.         0.         0.         0.         0.         0.\n",
      " 0.         0.         0.         0.         0.         0.\n",
      " 0.         0.         0.         0.         0.         0.\n",
      " 0.         0.         0.         0.         0.         0.\n",
      " 0.         0.         0.         0.         0.         0.\n",
      " 0.         0.         0.         0.         0.         0.\n",
      " 0.         0.         0.         0.         0.00430754 0.\n",
      " 0.         0.         0.         0.         0.         0.\n",
      " 0.         0.         0.         0.         0.         0.\n",
      " 0.         0.         0.         0.         0.         0.\n",
      " 0.         0.         0.         0.         0.         0.\n",
      " 0.         0.         0.         0.         0.         0.\n",
      " 0.         0.         0.         0.         0.         0.\n",
      " 0.         0.         0.         0.         0.         0.\n",
      " 0.         0.         0.         0.         0.         0.\n",
      " 0.         0.         0.         0.         0.         0.\n",
      " 0.         0.         0.01656818 0.         0.12155813 0.11940089\n",
      " 0.26081586 0.         0.         0.         0.         0.\n",
      " 0.         0.         0.         0.         0.         0.\n",
      " 0.         0.         0.         0.         0.         0.\n",
      " 0.         0.         0.         0.18368447 0.37922397 0.45559826\n",
      " 0.52614766 0.40089366 0.39948767 0.26801494 0.24493375 0.20219836\n",
      " 0.         0.         0.         0.         0.         0.\n",
      " 0.         0.         0.         0.         0.         0.\n",
      " 0.         0.         0.         0.         0.         0.09836134\n",
      " 0.30953705 0.48547807 0.57710004 0.62926507 0.5687257  0.5271667\n",
      " 0.3852527  0.         0.         0.07133523 0.         0.02389631\n",
      " 0.         0.         0.         0.         0.         0.\n",
      " 0.         0.         0.         0.         0.         0.\n",
      " 0.         0.         0.         0.08293828 0.4449417  0.6287377\n",
      " 0.5571542  0.54936314 0.67067146 0.43393332 0.23030901 0.\n",
      " 0.         0.         0.         0.         0.         0.14229813\n",
      " 0.16202655 0.         0.         0.         0.         0.\n",
      " 0.         0.         0.         0.         0.         0.\n",
      " 0.05600759 0.30570894 0.52081907 0.530804   0.42235112 0.5254473\n",
      " 0.31670767 0.09626615 0.         0.         0.         0.\n",
      " 0.         0.         0.         0.         0.         0.\n",
      " 0.         0.         0.         0.         0.         0.\n",
      " 0.         0.         0.         0.         0.148974   0.485532\n",
      " 0.2991566  0.39575022 0.2746817  0.0659402  0.         0.\n",
      " 0.         0.         0.         0.         0.         0.\n",
      " 0.         0.         0.         0.         0.         0.\n",
      " 0.         0.         0.         0.         0.         0.\n",
      " 0.         0.         0.         0.12346774 0.         0.\n",
      " 0.14163145 0.         0.01596242 0.11849239 0.02446452 0.\n",
      " 0.         0.         0.         0.         0.04143116 0.\n",
      " 0.         0.         0.         0.         0.         0.\n",
      " 0.         0.         0.         0.         0.         0.\n",
      " 0.         0.         0.03457129 0.35957456 0.40193456 0.2158035\n",
      " 0.34132236 0.28225276 0.23771125 0.         0.         0.\n",
      " 0.01966506 0.2782593  0.         0.         0.         0.\n",
      " 0.         0.         0.         0.         0.         0.\n",
      " 0.         0.         0.         0.         0.         0.14632413\n",
      " 0.54080945 0.6231797  0.5112266  0.56059337 0.5857581  0.39278293\n",
      " 0.36017132 0.         0.         0.         0.26581764 0.27228564\n",
      " 0.         0.         0.         0.         0.         0.\n",
      " 0.         0.         0.         0.         0.         0.\n",
      " 0.         0.         0.         0.35577118 0.54022676 0.6600068\n",
      " 0.6596752  0.6953377  0.67022955 0.5619383  0.45259714 0.\n",
      " 0.         0.         0.22039208 0.2868765  0.         0.04577976\n",
      " 0.         0.         0.         0.         0.         0.\n",
      " 0.         0.         0.         0.         0.         0.\n",
      " 0.         0.34541366 0.5141372  0.64803916 0.64694476 0.6345426\n",
      " 0.5901792  0.51856756 0.27309772 0.         0.         0.0497779\n",
      " 0.22019428 0.14903843 0.         0.13903657 0.         0.\n",
      " 0.         0.         0.         0.         0.         0.\n",
      " 0.         0.         0.         0.05286369 0.         0.01903856\n",
      " 0.43453014 0.5147436  0.5582523  0.5265154  0.59431756 0.45682955\n",
      " 0.24157637 0.01753768 0.04347697 0.14695495 0.2842399  0.\n",
      " 0.         0.         0.         0.         0.         0.\n",
      " 0.         0.         0.         0.         0.         0.\n",
      " 0.         0.         0.         0.01523232 0.         0.43509716\n",
      " 0.46276522 0.42484656 0.5301946  0.22435975 0.36918533 0.14750096\n",
      " 0.27220058 0.28342968 0.08885282 0.         0.         0.\n",
      " 0.         0.         0.         0.         0.         0.\n",
      " 0.         0.         0.         0.         0.         0.\n",
      " 0.         0.17189085 0.08979771 0.06484553 0.025994   0.00156495\n",
      " 0.10133702 0.05885655 0.09810492 0.16862258 0.         0.\n",
      " 0.         0.         0.         0.         0.         0.\n",
      " 0.         0.         0.         0.         0.         0.\n",
      " 0.         0.         0.         0.         0.         0.\n",
      " 0.         0.         0.09278333 0.         0.         0.\n",
      " 0.         0.         0.         0.         0.         0.\n",
      " 0.         0.         0.         0.         0.         0.\n",
      " 0.         0.         0.         0.         0.         0.\n",
      " 0.         0.         0.         0.04351854 0.         0.\n",
      " 0.         0.0990251  0.         0.         0.         0.\n",
      " 0.         0.         0.         0.         0.         0.\n",
      " 0.         0.         0.         0.         0.         0.\n",
      " 0.         0.         0.         0.         0.         0.\n",
      " 0.         0.3503384  0.         0.         0.         0.\n",
      " 0.         0.         0.         0.         0.         0.\n",
      " 0.         0.         0.         0.         0.         0.\n",
      " 0.         0.         0.         0.         0.         0.\n",
      " 0.         0.         0.         0.         0.         0.\n",
      " 0.         0.         0.         0.         0.         0.\n",
      " 0.         0.         0.         0.         0.         0.\n",
      " 0.         0.         0.         0.         0.         0.\n",
      " 0.         0.         0.         0.         0.         0.\n",
      " 0.         0.         0.         0.         0.         0.\n",
      " 0.         0.         0.         0.         0.         0.\n",
      " 0.         0.         0.         0.         0.         0.\n",
      " 0.         0.         0.         0.         0.         0.\n",
      " 0.         0.         0.         0.         0.         0.\n",
      " 0.         0.         0.         0.         0.         0.\n",
      " 0.         0.         0.         0.         0.         0.\n",
      " 0.         0.         0.         0.         0.         0.\n",
      " 0.         0.         0.         0.        ]\n"
     ]
    }
   ],
   "source": [
    "raw, prob = model.get_gates()\n",
    "#print('raw : ', raw)\n",
    "print(\" prob : \", prob)"
   ]
  },
  {
   "cell_type": "code",
   "execution_count": 35,
   "metadata": {},
   "outputs": [
    {
     "data": {
      "text/plain": [
       "(-0.5, 27.5, 27.5, -0.5)"
      ]
     },
     "execution_count": 35,
     "metadata": {},
     "output_type": "execute_result"
    },
    {
     "data": {
      "image/png": "[encoded data removed]",
      "text/plain": [
       "<Figure size 1000x2000 with 2 Axes>"
      ]
     },
     "metadata": {},
     "output_type": "display_data"
    }
   ],
   "source": [
    "test=train_set[6]\n",
    "lst = list(test)\n",
    "test = lst[0][0]\n",
    "test_prob=prob.reshape(28,28)\n",
    "final=test*test_prob\n",
    "\n",
    "fig =  plt.figure(figsize=(10,20))\n",
    "rows = 1 \n",
    "cols = 2\n",
    "\n",
    "ax1 = fig.add_subplot(rows,cols,1)\n",
    "ax1.imshow(test)\n",
    "ax1.axis('off')\n",
    "\n",
    "ax2= fig.add_subplot(rows,cols,2)\n",
    "ax2.imshow(final)\n",
    "ax2.axis('off')\n"
   ]
  },
  {
   "cell_type": "code",
   "execution_count": null,
   "metadata": {},
   "outputs": [],
   "source": []
  }
 ],
 "metadata": {
  "kernelspec": {
   "display_name": "Tobigs",
   "language": "python",
   "name": "python3"
  },
  "language_info": {
   "codemirror_mode": {
    "name": "ipython",
    "version": 3
   },
   "file_extension": ".py",
   "mimetype": "text/x-python",
   "name": "python",
   "nbconvert_exporter": "python",
   "pygments_lexer": "ipython3",
   "version": "3.9.16"
  },
  "orig_nbformat": 4
 },
 "nbformat": 4,
 "nbformat_minor": 2
}
