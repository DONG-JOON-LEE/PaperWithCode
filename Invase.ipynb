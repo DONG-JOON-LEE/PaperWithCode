{
 "cells": [
  {
   "cell_type": "code",
   "execution_count": 1,
   "metadata": {},
   "outputs": [],
   "source": [
    "import numpy as np \n",
    "import matplotlib.pyplot as plt \n",
    "import torch\n",
    "import pandas as pd\n",
    "import torch.optim as optim\n",
    "import math\n",
    "import torch.nn as nn\n",
    "import torch.optim as optim\n",
    "from sklearn.model_selection import train_test_split\n",
    "from torch.utils.data import Dataset,DataLoader\n",
    "from scipy.stats import norm\n",
    "from torchvision import datasets, transforms, utils"
   ]
  },
  {
   "attachments": {},
   "cell_type": "markdown",
   "metadata": {},
   "source": [
    "# Data"
   ]
  },
  {
   "cell_type": "code",
   "execution_count": 2,
   "metadata": {},
   "outputs": [],
   "source": [
    "train_set_raw = datasets.MNIST(\n",
    "    root = './data/MNIST',\n",
    "    train = True,\n",
    "    download = True,\n",
    "    transform = transforms.Compose([\n",
    "        transforms.ToTensor(),\n",
    "    ])\n",
    ")\n",
    "test_set_raw = datasets.MNIST(\n",
    "    root = './data/MNIST',\n",
    "    train = False,\n",
    "    download = True,\n",
    "    transform = transforms.Compose([\n",
    "        transforms.ToTensor(),\n",
    "    ])\n",
    ")\n",
    "train_set = list(filter(lambda i: i[1] == 3 or i[1]==8 , train_set_raw))\n",
    "test_set = list(filter(lambda i: i[1] == 3 or i[1]==8 , test_set_raw))\n"
   ]
  },
  {
   "cell_type": "code",
   "execution_count": 3,
   "metadata": {},
   "outputs": [],
   "source": [
    "for i in range(len(train_set)): \n",
    "    if train_set[i][1]==3:\n",
    "        lst=list(train_set[i])\n",
    "        lst.append(0)\n",
    "        lst.pop(1)\n",
    "        train_set[i] = tuple(lst)\n",
    "\n",
    "    elif train_set[i][1]==8:\n",
    "        lst=list(train_set[i])\n",
    "        lst.append(1)\n",
    "        lst.pop(1)\n",
    "        train_set[i] = tuple(lst)\n",
    "    \n",
    "    else :\n",
    "        pass\n",
    "        "
   ]
  },
  {
   "cell_type": "code",
   "execution_count": 4,
   "metadata": {},
   "outputs": [],
   "source": [
    "train_loader = DataLoader(train_set, batch_size=32,shuffle=True)\n",
    "test_loader = DataLoader(test_set, batch_size=32,shuffle=True)"
   ]
  },
  {
   "attachments": {},
   "cell_type": "markdown",
   "metadata": {},
   "source": [
    "# HyperParameter"
   ]
  },
  {
   "cell_type": "code",
   "execution_count": 5,
   "metadata": {},
   "outputs": [],
   "source": [
    "EPOCHS = 200"
   ]
  },
  {
   "attachments": {},
   "cell_type": "markdown",
   "metadata": {},
   "source": [
    "# Selector"
   ]
  },
  {
   "cell_type": "code",
   "execution_count": 6,
   "metadata": {},
   "outputs": [],
   "source": [
    "class Selector(nn.Module):\n",
    "    def __init__(self):\n",
    "        super().__init__()\n",
    "        self.h_dim = 2000\n",
    "        self.actor = nn.Sequential(\n",
    "            nn.Linear(784, self.h_dim),\n",
    "            nn.ReLU(),\n",
    "            nn.Linear(self.h_dim, self.h_dim),\n",
    "            nn.ReLU(),\n",
    "            nn.Linear(self.h_dim, self.h_dim),\n",
    "            nn.ReLU(),\n",
    "            nn.Linear(self.h_dim, self.h_dim),\n",
    "            nn.ReLU(),\n",
    "            nn.Linear(self.h_dim, 784),\n",
    "        )\n",
    "\n",
    "    def forward(self, x):\n",
    "        x = x.view(-1,784)\n",
    "        selection_probability = self.actor(x)\n",
    "        return selection_probability\n"
   ]
  },
  {
   "cell_type": "code",
   "execution_count": 7,
   "metadata": {},
   "outputs": [],
   "source": [
    "selector = Selector()"
   ]
  },
  {
   "attachments": {},
   "cell_type": "markdown",
   "metadata": {},
   "source": [
    "# Feature Selector"
   ]
  },
  {
   "cell_type": "code",
   "execution_count": 8,
   "metadata": {},
   "outputs": [],
   "source": [
    "class FeatureSelector(nn.Module):\n",
    "    def __init__(self, input_dim=784):\n",
    "        super(FeatureSelector, self).__init__()\n",
    "        self.mu = 0.01*torch.randn(input_dim, )\n",
    "        self.noise = torch.randn(self.mu.size()) \n",
    "        self.sigma = 0.5  \n",
    "    \n",
    "    def forward(self, prev_x):\n",
    "        self.mu = selector(prev_x)\n",
    "        z = self.mu + self.sigma * self.noise.normal_()\n",
    "        stochastic_gate = self.hard_sigmoid(z)\n",
    "        new_x = prev_x * stochastic_gate\n",
    "        return new_x\n",
    "    \n",
    "    def hard_sigmoid(self, x):\n",
    "        return torch.clamp(x, 0.0, 1.0)\n",
    "\n",
    "    def regularizer(self):\n",
    "        ''' Gaussian CDF. '''\n",
    "        return 0.5 * (1 + torch.erf(self.mu / math.sqrt(2))) \n",
    "\n",
    "    def get_gates(self):\n",
    "        # 실제 gate 값 출력 \n",
    "        # feature selection 여부 확인\n",
    "        return self.mu.detach().cpu().numpy(), np.minimum(1.0, np.maximum(0.0, self.mu.detach().cpu().numpy())) "
   ]
  },
  {
   "cell_type": "code",
   "execution_count": 9,
   "metadata": {},
   "outputs": [],
   "source": [
    "feature_selector = FeatureSelector()"
   ]
  },
  {
   "attachments": {},
   "cell_type": "markdown",
   "metadata": {},
   "source": [
    "# Model"
   ]
  },
  {
   "cell_type": "code",
   "execution_count": 10,
   "metadata": {},
   "outputs": [],
   "source": [
    "class Critic(nn.Module):\n",
    "    def __init__(self):\n",
    "        super().__init__()\n",
    "        self.h_dim = 2000\n",
    "        self.critic = nn.Sequential(\n",
    "            nn.Linear(784, self.h_dim),\n",
    "            nn.ReLU(),\n",
    "            nn.Linear(self.h_dim, self.h_dim),\n",
    "            nn.ReLU(),\n",
    "            nn.Linear(self.h_dim, self.h_dim),\n",
    "            nn.ReLU(),\n",
    "            nn.Linear(self.h_dim, self.h_dim),\n",
    "            nn.ReLU(),\n",
    "            nn.Linear(self.h_dim, 2),\n",
    "            nn.Softmax()\n",
    "        )\n",
    "        self.feature_selector = feature_selector\n",
    "        self.regularizer = feature_selector.regularizer\n",
    "        self.get_gates = feature_selector.get_gates\n",
    "        \n",
    "    def forward(self,x):\n",
    "        x = x.view(-1,784)\n",
    "        x = feature_selector(x)\n",
    "        x = self.critic(x)\n",
    "        return x"
   ]
  },
  {
   "cell_type": "code",
   "execution_count": 11,
   "metadata": {},
   "outputs": [],
   "source": [
    "critic = Critic()\n",
    "criterion = torch.nn.CrossEntropyLoss()\n",
    "optimizer = optim.Adam(critic.parameters(), lr = 1e-4)"
   ]
  },
  {
   "cell_type": "code",
   "execution_count": 12,
   "metadata": {},
   "outputs": [],
   "source": [
    "def train(model, train_loader, optimizer, criterion):\n",
    "    critic.train()\n",
    "    train_loss = 0 \n",
    "   \n",
    "    for data, target in train_loader:\n",
    "        input_x, target_x = data, target\n",
    "\n",
    "        optimizer.zero_grad()\n",
    "        output = model(input_x)\n",
    "        regularizer = torch.mean(model.regularizer())\n",
    "        loss = criterion(output,target_x) + 0.2 * regularizer \n",
    "        loss.backward()\n",
    "        optimizer.step()\n",
    "        train_loss += loss.item()\n",
    "    train_loss /= len(train_loader)\n",
    "    return train_loss"
   ]
  },
  {
   "cell_type": "code",
   "execution_count": 13,
   "metadata": {},
   "outputs": [
    {
     "name": "stderr",
     "output_type": "stream",
     "text": [
      "/Users/dongjoon/opt/anaconda3/envs/Tobigs/lib/python3.9/site-packages/torch/nn/modules/container.py:217: UserWarning: Implicit dimension choice for softmax has been deprecated. Change the call to include dim=X as an argument.\n",
      "  input = module(input)\n"
     ]
    },
    {
     "name": "stdout",
     "output_type": "stream",
     "text": [
      "[EPOCH: 0], \tTrain Loss: 0.5229\n",
      "[EPOCH: 1], \tTrain Loss: 0.4865\n",
      "[EPOCH: 2], \tTrain Loss: 0.4858\n"
     ]
    },
    {
     "name": "stderr",
     "output_type": "stream",
     "text": [
      "[E thread_pool.cpp:109] Exception in thread pool task: mutex lock failed: Invalid argument\n",
      "[E thread_pool.cpp:109] Exception in thread pool task: mutex lock failed: Invalid argument\n"
     ]
    },
    {
     "ename": "KeyboardInterrupt",
     "evalue": "",
     "output_type": "error",
     "traceback": [
      "\u001b[0;31m---------------------------------------------------------------------------\u001b[0m",
      "\u001b[0;31mKeyboardInterrupt\u001b[0m                         Traceback (most recent call last)",
      "Cell \u001b[0;32mIn[13], line 3\u001b[0m\n\u001b[1;32m      1\u001b[0m result_list \u001b[39m=\u001b[39m []\n\u001b[1;32m      2\u001b[0m \u001b[39mfor\u001b[39;00m epoch \u001b[39min\u001b[39;00m \u001b[39mrange\u001b[39m(\u001b[39m0\u001b[39m, EPOCHS \u001b[39m+\u001b[39m \u001b[39m1\u001b[39m):\n\u001b[0;32m----> 3\u001b[0m   train_loss\u001b[39m=\u001b[39mtrain(critic, train_loader,optimizer,criterion)\n\u001b[1;32m      4\u001b[0m   \u001b[39m#val_loss = evaluate(model, test_loader,criterion)\u001b[39;00m\n\u001b[1;32m      5\u001b[0m   \u001b[39mprint\u001b[39m(\u001b[39mf\u001b[39m\u001b[39m\"\u001b[39m\u001b[39m[EPOCH: \u001b[39m\u001b[39m{\u001b[39;00mepoch\u001b[39m}\u001b[39;00m\u001b[39m], \u001b[39m\u001b[39m\\t\u001b[39;00m\u001b[39mTrain Loss: \u001b[39m\u001b[39m{\u001b[39;00mtrain_loss\u001b[39m:\u001b[39;00m\u001b[39m.4f\u001b[39m\u001b[39m}\u001b[39;00m\u001b[39m\"\u001b[39m)\n",
      "Cell \u001b[0;32mIn[12], line 13\u001b[0m, in \u001b[0;36mtrain\u001b[0;34m(model, train_loader, optimizer, criterion)\u001b[0m\n\u001b[1;32m     11\u001b[0m     loss \u001b[39m=\u001b[39m criterion(output,target_x) \u001b[39m+\u001b[39m \u001b[39m0.2\u001b[39m \u001b[39m*\u001b[39m regularizer \n\u001b[1;32m     12\u001b[0m     loss\u001b[39m.\u001b[39mbackward()\n\u001b[0;32m---> 13\u001b[0m     optimizer\u001b[39m.\u001b[39;49mstep()\n\u001b[1;32m     14\u001b[0m     train_loss \u001b[39m+\u001b[39m\u001b[39m=\u001b[39m loss\u001b[39m.\u001b[39mitem()\n\u001b[1;32m     15\u001b[0m train_loss \u001b[39m/\u001b[39m\u001b[39m=\u001b[39m \u001b[39mlen\u001b[39m(train_loader)\n",
      "File \u001b[0;32m~/opt/anaconda3/envs/Tobigs/lib/python3.9/site-packages/torch/optim/optimizer.py:263\u001b[0m, in \u001b[0;36mOptimizer.profile_hook_step.<locals>.wrapper\u001b[0;34m(*args, **kwargs)\u001b[0m\n\u001b[1;32m    259\u001b[0m         \u001b[39melse\u001b[39;00m:\n\u001b[1;32m    260\u001b[0m             \u001b[39mraise\u001b[39;00m \u001b[39mRuntimeError\u001b[39;00m(\u001b[39mf\u001b[39m\u001b[39m\"\u001b[39m\u001b[39m{\u001b[39;00mfunc\u001b[39m}\u001b[39;00m\u001b[39m must return None or a tuple of (new_args, new_kwargs),\u001b[39m\u001b[39m\"\u001b[39m\n\u001b[1;32m    261\u001b[0m                                \u001b[39mf\u001b[39m\u001b[39m\"\u001b[39m\u001b[39mbut got \u001b[39m\u001b[39m{\u001b[39;00mresult\u001b[39m}\u001b[39;00m\u001b[39m.\u001b[39m\u001b[39m\"\u001b[39m)\n\u001b[0;32m--> 263\u001b[0m out \u001b[39m=\u001b[39m func(\u001b[39m*\u001b[39;49margs, \u001b[39m*\u001b[39;49m\u001b[39m*\u001b[39;49mkwargs)\n\u001b[1;32m    264\u001b[0m \u001b[39mself\u001b[39m\u001b[39m.\u001b[39m_optimizer_step_code()\n\u001b[1;32m    266\u001b[0m \u001b[39m# call optimizer step post hooks\u001b[39;00m\n",
      "File \u001b[0;32m~/opt/anaconda3/envs/Tobigs/lib/python3.9/site-packages/torch/optim/optimizer.py:32\u001b[0m, in \u001b[0;36m_use_grad_for_differentiable.<locals>._use_grad\u001b[0;34m(self, *args, **kwargs)\u001b[0m\n\u001b[1;32m     30\u001b[0m \u001b[39mtry\u001b[39;00m:\n\u001b[1;32m     31\u001b[0m     torch\u001b[39m.\u001b[39mset_grad_enabled(\u001b[39mself\u001b[39m\u001b[39m.\u001b[39mdefaults[\u001b[39m'\u001b[39m\u001b[39mdifferentiable\u001b[39m\u001b[39m'\u001b[39m])\n\u001b[0;32m---> 32\u001b[0m     ret \u001b[39m=\u001b[39m func(\u001b[39mself\u001b[39;49m, \u001b[39m*\u001b[39;49margs, \u001b[39m*\u001b[39;49m\u001b[39m*\u001b[39;49mkwargs)\n\u001b[1;32m     33\u001b[0m \u001b[39mfinally\u001b[39;00m:\n\u001b[1;32m     34\u001b[0m     torch\u001b[39m.\u001b[39mset_grad_enabled(prev_grad)\n",
      "File \u001b[0;32m~/opt/anaconda3/envs/Tobigs/lib/python3.9/site-packages/torch/optim/adam.py:143\u001b[0m, in \u001b[0;36mAdam.step\u001b[0;34m(self, closure)\u001b[0m\n\u001b[1;32m    132\u001b[0m     beta1, beta2 \u001b[39m=\u001b[39m group[\u001b[39m'\u001b[39m\u001b[39mbetas\u001b[39m\u001b[39m'\u001b[39m]\n\u001b[1;32m    134\u001b[0m     \u001b[39mself\u001b[39m\u001b[39m.\u001b[39m_init_group(\n\u001b[1;32m    135\u001b[0m         group,\n\u001b[1;32m    136\u001b[0m         params_with_grad,\n\u001b[0;32m   (...)\u001b[0m\n\u001b[1;32m    140\u001b[0m         max_exp_avg_sqs,\n\u001b[1;32m    141\u001b[0m         state_steps)\n\u001b[0;32m--> 143\u001b[0m     adam(params_with_grad,\n\u001b[1;32m    144\u001b[0m          grads,\n\u001b[1;32m    145\u001b[0m          exp_avgs,\n\u001b[1;32m    146\u001b[0m          exp_avg_sqs,\n\u001b[1;32m    147\u001b[0m          max_exp_avg_sqs,\n\u001b[1;32m    148\u001b[0m          state_steps,\n\u001b[1;32m    149\u001b[0m          amsgrad\u001b[39m=\u001b[39;49mgroup[\u001b[39m'\u001b[39;49m\u001b[39mamsgrad\u001b[39;49m\u001b[39m'\u001b[39;49m],\n\u001b[1;32m    150\u001b[0m          beta1\u001b[39m=\u001b[39;49mbeta1,\n\u001b[1;32m    151\u001b[0m          beta2\u001b[39m=\u001b[39;49mbeta2,\n\u001b[1;32m    152\u001b[0m          lr\u001b[39m=\u001b[39;49mgroup[\u001b[39m'\u001b[39;49m\u001b[39mlr\u001b[39;49m\u001b[39m'\u001b[39;49m],\n\u001b[1;32m    153\u001b[0m          weight_decay\u001b[39m=\u001b[39;49mgroup[\u001b[39m'\u001b[39;49m\u001b[39mweight_decay\u001b[39;49m\u001b[39m'\u001b[39;49m],\n\u001b[1;32m    154\u001b[0m          eps\u001b[39m=\u001b[39;49mgroup[\u001b[39m'\u001b[39;49m\u001b[39meps\u001b[39;49m\u001b[39m'\u001b[39;49m],\n\u001b[1;32m    155\u001b[0m          maximize\u001b[39m=\u001b[39;49mgroup[\u001b[39m'\u001b[39;49m\u001b[39mmaximize\u001b[39;49m\u001b[39m'\u001b[39;49m],\n\u001b[1;32m    156\u001b[0m          foreach\u001b[39m=\u001b[39;49mgroup[\u001b[39m'\u001b[39;49m\u001b[39mforeach\u001b[39;49m\u001b[39m'\u001b[39;49m],\n\u001b[1;32m    157\u001b[0m          capturable\u001b[39m=\u001b[39;49mgroup[\u001b[39m'\u001b[39;49m\u001b[39mcapturable\u001b[39;49m\u001b[39m'\u001b[39;49m],\n\u001b[1;32m    158\u001b[0m          differentiable\u001b[39m=\u001b[39;49mgroup[\u001b[39m'\u001b[39;49m\u001b[39mdifferentiable\u001b[39;49m\u001b[39m'\u001b[39;49m],\n\u001b[1;32m    159\u001b[0m          fused\u001b[39m=\u001b[39;49mgroup[\u001b[39m'\u001b[39;49m\u001b[39mfused\u001b[39;49m\u001b[39m'\u001b[39;49m],\n\u001b[1;32m    160\u001b[0m          grad_scale\u001b[39m=\u001b[39;49m\u001b[39mgetattr\u001b[39;49m(\u001b[39mself\u001b[39;49m, \u001b[39m\"\u001b[39;49m\u001b[39mgrad_scale\u001b[39;49m\u001b[39m\"\u001b[39;49m, \u001b[39mNone\u001b[39;49;00m),\n\u001b[1;32m    161\u001b[0m          found_inf\u001b[39m=\u001b[39;49m\u001b[39mgetattr\u001b[39;49m(\u001b[39mself\u001b[39;49m, \u001b[39m\"\u001b[39;49m\u001b[39mfound_inf\u001b[39;49m\u001b[39m\"\u001b[39;49m, \u001b[39mNone\u001b[39;49;00m))\n\u001b[1;32m    163\u001b[0m \u001b[39mreturn\u001b[39;00m loss\n",
      "File \u001b[0;32m~/opt/anaconda3/envs/Tobigs/lib/python3.9/site-packages/torch/optim/adam.py:293\u001b[0m, in \u001b[0;36madam\u001b[0;34m(params, grads, exp_avgs, exp_avg_sqs, max_exp_avg_sqs, state_steps, foreach, capturable, differentiable, fused, grad_scale, found_inf, amsgrad, beta1, beta2, lr, weight_decay, eps, maximize)\u001b[0m\n\u001b[1;32m    290\u001b[0m \u001b[39melse\u001b[39;00m:\n\u001b[1;32m    291\u001b[0m     func \u001b[39m=\u001b[39m _single_tensor_adam\n\u001b[0;32m--> 293\u001b[0m func(params,\n\u001b[1;32m    294\u001b[0m      grads,\n\u001b[1;32m    295\u001b[0m      exp_avgs,\n\u001b[1;32m    296\u001b[0m      exp_avg_sqs,\n\u001b[1;32m    297\u001b[0m      max_exp_avg_sqs,\n\u001b[1;32m    298\u001b[0m      state_steps,\n\u001b[1;32m    299\u001b[0m      amsgrad\u001b[39m=\u001b[39;49mamsgrad,\n\u001b[1;32m    300\u001b[0m      beta1\u001b[39m=\u001b[39;49mbeta1,\n\u001b[1;32m    301\u001b[0m      beta2\u001b[39m=\u001b[39;49mbeta2,\n\u001b[1;32m    302\u001b[0m      lr\u001b[39m=\u001b[39;49mlr,\n\u001b[1;32m    303\u001b[0m      weight_decay\u001b[39m=\u001b[39;49mweight_decay,\n\u001b[1;32m    304\u001b[0m      eps\u001b[39m=\u001b[39;49meps,\n\u001b[1;32m    305\u001b[0m      maximize\u001b[39m=\u001b[39;49mmaximize,\n\u001b[1;32m    306\u001b[0m      capturable\u001b[39m=\u001b[39;49mcapturable,\n\u001b[1;32m    307\u001b[0m      differentiable\u001b[39m=\u001b[39;49mdifferentiable,\n\u001b[1;32m    308\u001b[0m      grad_scale\u001b[39m=\u001b[39;49mgrad_scale,\n\u001b[1;32m    309\u001b[0m      found_inf\u001b[39m=\u001b[39;49mfound_inf)\n",
      "File \u001b[0;32m~/opt/anaconda3/envs/Tobigs/lib/python3.9/site-packages/torch/optim/adam.py:357\u001b[0m, in \u001b[0;36m_single_tensor_adam\u001b[0;34m(params, grads, exp_avgs, exp_avg_sqs, max_exp_avg_sqs, state_steps, grad_scale, found_inf, amsgrad, beta1, beta2, lr, weight_decay, eps, maximize, capturable, differentiable)\u001b[0m\n\u001b[1;32m    355\u001b[0m \u001b[39m# Decay the first and second moment running average coefficient\u001b[39;00m\n\u001b[1;32m    356\u001b[0m exp_avg\u001b[39m.\u001b[39mmul_(beta1)\u001b[39m.\u001b[39madd_(grad, alpha\u001b[39m=\u001b[39m\u001b[39m1\u001b[39m \u001b[39m-\u001b[39m beta1)\n\u001b[0;32m--> 357\u001b[0m exp_avg_sq\u001b[39m.\u001b[39;49mmul_(beta2)\u001b[39m.\u001b[39maddcmul_(grad, grad\u001b[39m.\u001b[39mconj(), value\u001b[39m=\u001b[39m\u001b[39m1\u001b[39m \u001b[39m-\u001b[39m beta2)\n\u001b[1;32m    359\u001b[0m \u001b[39mif\u001b[39;00m capturable \u001b[39mor\u001b[39;00m differentiable:\n\u001b[1;32m    360\u001b[0m     step \u001b[39m=\u001b[39m step_t\n",
      "\u001b[0;31mKeyboardInterrupt\u001b[0m: "
     ]
    }
   ],
   "source": [
    "result_list = []\n",
    "for epoch in range(0, EPOCHS + 1):\n",
    "  train_loss=train(critic, train_loader,optimizer,criterion)\n",
    "  #val_loss = evaluate(model, test_loader,criterion)\n",
    "  print(f\"[EPOCH: {epoch}], \\tTrain Loss: {train_loss:.4f}\")\n",
    "  result = {\n",
    "    'EPOCH': epoch,\n",
    "    'Train Loss': train_loss,\n",
    "    #'Val Loss': val_loss,\n",
    "    #'Val Accuracy': val_accuracy\n",
    "    }\n",
    "  \n",
    "  result_list.append(result)\n",
    "result_df = pd.DataFrame(result_list)\n"
   ]
  },
  {
   "cell_type": "code",
   "execution_count": null,
   "metadata": {},
   "outputs": [
    {
     "data": {
      "text/plain": [
       "<AxesSubplot: >"
      ]
     },
     "execution_count": 14,
     "metadata": {},
     "output_type": "execute_result"
    },
    {
     "data": {
      "image/png": "[encoded data removed]",
      "text/plain": [
       "<Figure size 640x480 with 1 Axes>"
      ]
     },
     "metadata": {},
     "output_type": "display_data"
    }
   ],
   "source": [
    "result_df['Train Loss'].plot()"
   ]
  },
  {
   "cell_type": "code",
   "execution_count": null,
   "metadata": {},
   "outputs": [
    {
     "name": "stdout",
     "output_type": "stream",
     "text": [
      " prob :  [0.         0.         0.         0.         0.         0.\n",
      " 0.         0.         0.         0.         0.         0.\n",
      " 0.         0.         0.         0.         0.         0.\n",
      " 0.         0.         0.         0.         0.         0.\n",
      " 0.         0.         0.         0.         0.         0.\n",
      " 0.         0.         0.         0.         0.         0.\n",
      " 0.         0.         0.         0.         0.         0.\n",
      " 0.         0.         0.         0.         0.         0.\n",
      " 0.         0.         0.         0.         0.         0.\n",
      " 0.         0.         0.         0.         0.         0.\n",
      " 0.         0.         0.         0.         0.         0.\n",
      " 0.         0.         0.         0.         0.         0.\n",
      " 0.         0.         0.         0.         0.         0.\n",
      " 0.         0.         0.         0.         0.         0.\n",
      " 0.         0.         0.         0.         0.         0.\n",
      " 0.         0.         0.         0.         0.         0.\n",
      " 0.         0.         0.         0.         0.         0.\n",
      " 0.         0.         0.         0.         0.         0.\n",
      " 0.         0.         0.         0.         0.         0.\n",
      " 0.         0.         0.         0.         0.         0.\n",
      " 0.         0.         0.         0.         0.         0.\n",
      " 0.         0.         0.         0.         0.         0.\n",
      " 0.         0.         0.         0.         0.         0.\n",
      " 0.         0.         0.         0.         0.         0.\n",
      " 0.         0.         0.         0.         0.         0.\n",
      " 0.05983737 0.         0.         0.10426468 0.13109893 0.\n",
      " 0.         0.         0.         0.         0.         0.\n",
      " 0.         0.         0.         0.         0.         0.\n",
      " 0.         0.         0.         0.         0.         0.\n",
      " 0.         0.02817538 0.         0.         0.         0.01645288\n",
      " 0.         0.         0.         0.         0.         0.\n",
      " 0.         0.         0.         0.         0.         0.\n",
      " 0.         0.         0.         0.         0.         0.\n",
      " 0.         0.         0.         0.         0.         0.06882909\n",
      " 0.13120893 0.         0.         0.         0.08043686 0.05430278\n",
      " 0.21298832 0.         0.00687498 0.         0.         0.\n",
      " 0.         0.         0.         0.         0.         0.\n",
      " 0.         0.         0.         0.         0.         0.\n",
      " 0.         0.         0.         0.         0.         0.01942226\n",
      " 0.12230095 0.10294354 0.27367908 0.03649867 0.2133488  0.23697093\n",
      " 0.09949538 0.         0.         0.         0.         0.\n",
      " 0.         0.         0.         0.         0.         0.\n",
      " 0.         0.         0.         0.         0.         0.\n",
      " 0.         0.         0.         0.25314564 0.41154486 0.5270563\n",
      " 0.5222004  0.4901073  0.46634227 0.32919163 0.21758133 0.07549825\n",
      " 0.         0.07582796 0.         0.         0.         0.\n",
      " 0.         0.         0.         0.         0.         0.\n",
      " 0.         0.         0.         0.         0.         0.13467401\n",
      " 0.32638603 0.52455485 0.6191399  0.592053   0.6629901  0.5718831\n",
      " 0.42132747 0.02075413 0.01186624 0.10363495 0.         0.05356538\n",
      " 0.         0.         0.         0.         0.         0.\n",
      " 0.         0.         0.         0.         0.         0.\n",
      " 0.         0.         0.02555621 0.27807373 0.42530355 0.6625135\n",
      " 0.57864153 0.58967674 0.62778723 0.5001787  0.38949463 0.0588131\n",
      " 0.         0.         0.         0.         0.         0.17513776\n",
      " 0.01519188 0.         0.         0.         0.         0.\n",
      " 0.         0.         0.         0.         0.         0.\n",
      " 0.         0.34212542 0.60006166 0.5713748  0.47562027 0.57554734\n",
      " 0.44514817 0.26514864 0.00494859 0.         0.         0.\n",
      " 0.         0.         0.         0.         0.         0.\n",
      " 0.         0.         0.         0.         0.         0.\n",
      " 0.         0.         0.         0.         0.         0.45349178\n",
      " 0.3522367  0.41699564 0.32323247 0.22917914 0.11074039 0.\n",
      " 0.         0.         0.         0.         0.         0.\n",
      " 0.         0.         0.         0.         0.         0.\n",
      " 0.         0.         0.         0.         0.         0.\n",
      " 0.         0.         0.         0.         0.         0.04680037\n",
      " 0.23987424 0.16962609 0.089008   0.15970165 0.17465559 0.\n",
      " 0.         0.         0.         0.         0.         0.\n",
      " 0.         0.         0.         0.         0.         0.\n",
      " 0.         0.         0.         0.         0.         0.\n",
      " 0.         0.         0.25121662 0.2928769  0.503814   0.48102948\n",
      " 0.33235127 0.33770984 0.19731912 0.         0.         0.\n",
      " 0.17013842 0.23571602 0.         0.         0.         0.\n",
      " 0.         0.         0.         0.         0.         0.\n",
      " 0.         0.         0.         0.         0.         0.06705785\n",
      " 0.52599823 0.64391255 0.58155906 0.5958214  0.61040336 0.42374545\n",
      " 0.26164433 0.         0.         0.         0.32681358 0.19124132\n",
      " 0.0921953  0.         0.         0.         0.         0.\n",
      " 0.         0.         0.         0.         0.         0.\n",
      " 0.         0.         0.         0.27053756 0.59503585 0.73293066\n",
      " 0.75329065 0.71801853 0.7134098  0.59973377 0.2941004  0.\n",
      " 0.         0.02191079 0.24626672 0.19089365 0.         0.\n",
      " 0.         0.         0.         0.         0.         0.\n",
      " 0.         0.         0.         0.         0.         0.\n",
      " 0.         0.3648622  0.52492684 0.688343   0.6944649  0.6979812\n",
      " 0.63074845 0.6071945  0.21649212 0.00885868 0.11467662 0.12263665\n",
      " 0.22391737 0.101156   0.         0.         0.         0.\n",
      " 0.         0.         0.         0.         0.         0.\n",
      " 0.         0.         0.         0.14376211 0.07138085 0.2598908\n",
      " 0.50810176 0.5985625  0.64089066 0.5092242  0.5813286  0.45885342\n",
      " 0.29102257 0.3319767  0.16954109 0.22336519 0.2490285  0.\n",
      " 0.         0.         0.         0.         0.         0.\n",
      " 0.         0.         0.         0.         0.         0.\n",
      " 0.         0.         0.         0.14493045 0.18827555 0.45664907\n",
      " 0.5366491  0.55137473 0.5336424  0.34818265 0.2298756  0.06074053\n",
      " 0.18198487 0.3163131  0.03839427 0.         0.         0.\n",
      " 0.         0.         0.         0.         0.         0.\n",
      " 0.         0.         0.         0.         0.         0.\n",
      " 0.         0.23213312 0.16617015 0.28902227 0.22929528 0.27194363\n",
      " 0.21082553 0.15589654 0.14062098 0.10118273 0.         0.\n",
      " 0.         0.         0.         0.         0.         0.\n",
      " 0.         0.         0.         0.         0.         0.\n",
      " 0.         0.         0.         0.         0.         0.\n",
      " 0.07349202 0.12978256 0.21988195 0.02875057 0.         0.\n",
      " 0.         0.         0.         0.         0.         0.\n",
      " 0.         0.         0.         0.         0.         0.\n",
      " 0.         0.         0.         0.         0.         0.\n",
      " 0.         0.         0.         0.12840408 0.01253653 0.\n",
      " 0.15918925 0.01742756 0.         0.09054989 0.         0.\n",
      " 0.         0.         0.         0.         0.         0.\n",
      " 0.         0.         0.         0.         0.         0.\n",
      " 0.         0.         0.         0.         0.         0.\n",
      " 0.         0.07281744 0.1183078  0.03886566 0.         0.\n",
      " 0.         0.         0.         0.         0.         0.\n",
      " 0.         0.         0.         0.         0.         0.\n",
      " 0.         0.         0.         0.         0.         0.\n",
      " 0.         0.         0.         0.         0.         0.\n",
      " 0.         0.         0.         0.         0.         0.\n",
      " 0.         0.         0.         0.         0.         0.\n",
      " 0.         0.         0.         0.         0.         0.\n",
      " 0.         0.         0.         0.         0.         0.\n",
      " 0.         0.         0.         0.         0.         0.\n",
      " 0.         0.         0.         0.         0.         0.\n",
      " 0.         0.         0.         0.         0.         0.\n",
      " 0.         0.         0.         0.         0.         0.\n",
      " 0.         0.         0.         0.         0.         0.\n",
      " 0.         0.         0.         0.         0.         0.\n",
      " 0.         0.         0.         0.         0.         0.\n",
      " 0.         0.         0.         0.         0.         0.\n",
      " 0.         0.         0.         0.        ]\n"
     ]
    }
   ],
   "source": [
    "raw, prob = model.get_gates()\n",
    "#print('raw : ', raw)\n",
    "print(\" prob : \", prob)"
   ]
  },
  {
   "cell_type": "code",
   "execution_count": null,
   "metadata": {},
   "outputs": [
    {
     "data": {
      "text/plain": [
       "(-0.5, 27.5, 27.5, -0.5)"
      ]
     },
     "execution_count": 19,
     "metadata": {},
     "output_type": "execute_result"
    },
    {
     "data": {
      "image/png": "[encoded data removed]",
      "text/plain": [
       "<Figure size 1000x2000 with 2 Axes>"
      ]
     },
     "metadata": {},
     "output_type": "display_data"
    }
   ],
   "source": [
    "test=train_set[100]\n",
    "lst = list(test)\n",
    "test = lst[0][0]\n",
    "test_prob=prob.reshape(28,28)\n",
    "final=test*test_prob\n",
    "\n",
    "fig =  plt.figure(figsize=(10,20))\n",
    "rows = 1 \n",
    "cols = 2\n",
    "\n",
    "ax1 = fig.add_subplot(rows,cols,1)\n",
    "ax1.imshow(test)\n",
    "ax1.axis('off')\n",
    "\n",
    "ax2= fig.add_subplot(rows,cols,2)\n",
    "ax2.imshow(final)\n",
    "ax2.axis('off')\n"
   ]
  },
  {
   "cell_type": "code",
   "execution_count": null,
   "metadata": {},
   "outputs": [],
   "source": []
  }
 ],
 "metadata": {
  "kernelspec": {
   "display_name": "Tobigs",
   "language": "python",
   "name": "python3"
  },
  "language_info": {
   "codemirror_mode": {
    "name": "ipython",
    "version": 3
   },
   "file_extension": ".py",
   "mimetype": "text/x-python",
   "name": "python",
   "nbconvert_exporter": "python",
   "pygments_lexer": "ipython3",
   "version": "3.9.16"
  },
  "orig_nbformat": 4
 },
 "nbformat": 4,
 "nbformat_minor": 2
}
