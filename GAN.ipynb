{
 "cells": [
  {
   "cell_type": "code",
   "execution_count": 92,
   "metadata": {},
   "outputs": [],
   "source": [
    "import os\n",
    "import torch\n",
    "import torchvision \n",
    "import torch.nn as nn \n",
    "import matplotlib.pyplot as plt\n",
    "import torch.optim as optim\n",
    "from torchvision import datasets, transforms\n",
    "from torchvision.utils import save_image\n",
    "from torch.utils.data import DataLoader\n"
   ]
  },
  {
   "cell_type": "code",
   "execution_count": 93,
   "metadata": {},
   "outputs": [],
   "source": [
    "#hyperparameters\n",
    "z_dim = 64\n",
    "image_dim = 784\n",
    "lr = 3e-4\n",
    "EPOCHS = 50\n",
    "BATCH_SIZE = 100\n",
    "USE_CUDA = torch.cuda.is_available()\n",
    "DEVICE = torch.device(\"cuda\" if USE_CUDA else \"cpu\")"
   ]
  },
  {
   "cell_type": "code",
   "execution_count": 94,
   "metadata": {},
   "outputs": [],
   "source": [
    "trainset = datasets.FashionMNIST(\n",
    "    root = '../PaperWithCode/',\n",
    "    download=True,\n",
    "    train = True,\n",
    "    transform = transforms.Compose([\n",
    "                transforms.ToTensor(),\n",
    "                transforms.Normalize((0.5,),(0.5))\n",
    "    ])\n",
    ")\n",
    "\n",
    "train_loader = DataLoader(\n",
    "    dataset=trainset,\n",
    "    batch_size=BATCH_SIZE,\n",
    "    shuffle=True\n",
    ")"
   ]
  },
  {
   "cell_type": "code",
   "execution_count": 95,
   "metadata": {},
   "outputs": [],
   "source": [
    "class Generator(nn.Module):\n",
    "    def __init__(self,z_dim,img_dim):\n",
    "        super().__init__()\n",
    "\n",
    "        self.gen = nn.Sequential(\n",
    "            nn.Linear(64, 256),\n",
    "            nn.ReLU(),\n",
    "            nn.Linear(256, 256),\n",
    "            nn.ReLU(),\n",
    "            nn.Linear(256, 784),\n",
    "            nn.Tanh()\n",
    "        )\n",
    "    \n",
    "    def forward(self, z):\n",
    "        return self.gen(z)"
   ]
  },
  {
   "cell_type": "code",
   "execution_count": 96,
   "metadata": {},
   "outputs": [],
   "source": [
    "class Discriminator(nn.Module):\n",
    "    def __init__(self, img_dim):\n",
    "        super().__init__()\n",
    "        \n",
    "        self.dis = nn.Sequential(\n",
    "            nn.Linear(784, 256),\n",
    "            nn.LeakyReLU(0.2),\n",
    "            nn.Linear(256, 256),\n",
    "            nn.LeakyReLU(0.2),\n",
    "            nn.Linear(256, 1),\n",
    "            nn.Sigmoid()\n",
    "        )\n",
    "        \n",
    "    def forward(self, x):\n",
    "        return self.dis(x)"
   ]
  },
  {
   "cell_type": "code",
   "execution_count": 97,
   "metadata": {},
   "outputs": [],
   "source": [
    "G = Generator(z_dim,image_dim).to(DEVICE)\n",
    "D = Discriminator(image_dim).to(DEVICE)\n",
    "d_optimizer = optim.Adam(D.parameters(), lr = 0.0002)\n",
    "g_optimizer = optim.Adam(G.parameters(), lr = 0.0002)\n",
    "criterion = nn.BCELoss() "
   ]
  },
  {
   "cell_type": "code",
   "execution_count": 98,
   "metadata": {},
   "outputs": [],
   "source": [
    "import os\n",
    "from torchvision.utils import save_image\n",
    "\n",
    "dir_name = \"GAN_results\"\n",
    "\n",
    "# Create a directory for saving samples\n",
    "if not os.path.exists(dir_name):\n",
    "    os.makedirs(dir_name)"
   ]
  },
  {
   "cell_type": "code",
   "execution_count": 99,
   "metadata": {},
   "outputs": [
    {
     "name": "stdout",
     "output_type": "stream",
     "text": [
      "Epoch [0/50], d_loss: 0.0818, g_loss: 4.2445, D(x): 0.97, D(G(z)): 0.04\n",
      "Epoch [1/50], d_loss: 0.0475, g_loss: 6.2974, D(x): 0.98, D(G(z)): 0.01\n",
      "Epoch [2/50], d_loss: 0.0468, g_loss: 6.9327, D(x): 1.00, D(G(z)): 0.04\n",
      "Epoch [3/50], d_loss: 0.2253, g_loss: 6.8094, D(x): 0.96, D(G(z)): 0.08\n",
      "Epoch [4/50], d_loss: 0.1796, g_loss: 6.6226, D(x): 0.94, D(G(z)): 0.01\n",
      "Epoch [5/50], d_loss: 0.3658, g_loss: 6.6869, D(x): 0.90, D(G(z)): 0.00\n",
      "Epoch [6/50], d_loss: 0.2494, g_loss: 4.3512, D(x): 0.97, D(G(z)): 0.13\n",
      "Epoch [7/50], d_loss: 0.1379, g_loss: 5.0320, D(x): 0.97, D(G(z)): 0.07\n",
      "Epoch [8/50], d_loss: 0.2992, g_loss: 4.4364, D(x): 0.93, D(G(z)): 0.04\n",
      "Epoch [9/50], d_loss: 0.2737, g_loss: 4.1077, D(x): 0.91, D(G(z)): 0.06\n",
      "Epoch [10/50], d_loss: 0.2496, g_loss: 4.0438, D(x): 0.96, D(G(z)): 0.11\n",
      "Epoch [11/50], d_loss: 0.1858, g_loss: 5.2764, D(x): 0.94, D(G(z)): 0.04\n",
      "Epoch [12/50], d_loss: 0.2694, g_loss: 4.4974, D(x): 0.92, D(G(z)): 0.06\n",
      "Epoch [13/50], d_loss: 0.4177, g_loss: 3.6286, D(x): 0.90, D(G(z)): 0.11\n",
      "Epoch [14/50], d_loss: 0.3488, g_loss: 3.2625, D(x): 0.93, D(G(z)): 0.16\n",
      "Epoch [15/50], d_loss: 0.3839, g_loss: 2.8089, D(x): 0.91, D(G(z)): 0.11\n",
      "Epoch [16/50], d_loss: 0.4007, g_loss: 4.2427, D(x): 0.91, D(G(z)): 0.07\n",
      "Epoch [17/50], d_loss: 0.5376, g_loss: 3.7254, D(x): 0.82, D(G(z)): 0.06\n",
      "Epoch [18/50], d_loss: 0.2233, g_loss: 4.0410, D(x): 0.93, D(G(z)): 0.08\n",
      "Epoch [19/50], d_loss: 0.3920, g_loss: 3.5395, D(x): 0.93, D(G(z)): 0.14\n",
      "Epoch [20/50], d_loss: 0.3813, g_loss: 3.9498, D(x): 0.91, D(G(z)): 0.10\n",
      "Epoch [21/50], d_loss: 0.2325, g_loss: 4.5728, D(x): 0.91, D(G(z)): 0.05\n",
      "Epoch [22/50], d_loss: 0.3400, g_loss: 3.1623, D(x): 0.91, D(G(z)): 0.14\n",
      "Epoch [23/50], d_loss: 0.3574, g_loss: 3.7242, D(x): 0.91, D(G(z)): 0.10\n",
      "Epoch [24/50], d_loss: 0.4876, g_loss: 3.2674, D(x): 0.83, D(G(z)): 0.06\n",
      "Epoch [25/50], d_loss: 0.5116, g_loss: 2.9654, D(x): 0.87, D(G(z)): 0.14\n",
      "Epoch [26/50], d_loss: 0.2703, g_loss: 4.0222, D(x): 0.93, D(G(z)): 0.12\n",
      "Epoch [27/50], d_loss: 0.2530, g_loss: 4.3152, D(x): 0.91, D(G(z)): 0.08\n",
      "Epoch [28/50], d_loss: 0.4663, g_loss: 3.0570, D(x): 0.84, D(G(z)): 0.08\n",
      "Epoch [29/50], d_loss: 0.2275, g_loss: 3.7993, D(x): 0.95, D(G(z)): 0.11\n",
      "Epoch [30/50], d_loss: 0.3628, g_loss: 3.5485, D(x): 0.89, D(G(z)): 0.10\n",
      "Epoch [31/50], d_loss: 0.4267, g_loss: 2.6631, D(x): 0.87, D(G(z)): 0.14\n",
      "Epoch [32/50], d_loss: 0.6367, g_loss: 3.1628, D(x): 0.78, D(G(z)): 0.11\n",
      "Epoch [33/50], d_loss: 0.4848, g_loss: 2.7589, D(x): 0.85, D(G(z)): 0.12\n",
      "Epoch [34/50], d_loss: 0.3535, g_loss: 2.9492, D(x): 0.87, D(G(z)): 0.08\n",
      "Epoch [35/50], d_loss: 0.5298, g_loss: 2.8210, D(x): 0.89, D(G(z)): 0.19\n",
      "Epoch [36/50], d_loss: 0.4484, g_loss: 3.6958, D(x): 0.84, D(G(z)): 0.10\n",
      "Epoch [37/50], d_loss: 0.6096, g_loss: 2.9207, D(x): 0.78, D(G(z)): 0.11\n",
      "Epoch [38/50], d_loss: 0.3982, g_loss: 3.1198, D(x): 0.86, D(G(z)): 0.11\n",
      "Epoch [39/50], d_loss: 0.5548, g_loss: 2.2914, D(x): 0.87, D(G(z)): 0.20\n",
      "Epoch [40/50], d_loss: 0.6129, g_loss: 2.9759, D(x): 0.84, D(G(z)): 0.20\n",
      "Epoch [41/50], d_loss: 0.5168, g_loss: 3.6191, D(x): 0.77, D(G(z)): 0.08\n",
      "Epoch [42/50], d_loss: 0.6315, g_loss: 2.4872, D(x): 0.80, D(G(z)): 0.22\n",
      "Epoch [43/50], d_loss: 0.6678, g_loss: 2.5774, D(x): 0.78, D(G(z)): 0.16\n",
      "Epoch [44/50], d_loss: 0.5010, g_loss: 3.8545, D(x): 0.84, D(G(z)): 0.13\n",
      "Epoch [45/50], d_loss: 0.6162, g_loss: 2.9395, D(x): 0.84, D(G(z)): 0.21\n",
      "Epoch [46/50], d_loss: 0.4254, g_loss: 2.8547, D(x): 0.89, D(G(z)): 0.18\n",
      "Epoch [47/50], d_loss: 0.6485, g_loss: 2.3081, D(x): 0.77, D(G(z)): 0.18\n",
      "Epoch [48/50], d_loss: 0.5906, g_loss: 2.8011, D(x): 0.80, D(G(z)): 0.16\n",
      "Epoch [49/50], d_loss: 0.6596, g_loss: 3.3990, D(x): 0.76, D(G(z)): 0.10\n"
     ]
    }
   ],
   "source": [
    "total_step = len(train_loader)\n",
    "for epoch in range(EPOCHS):\n",
    "    for i, (images, _) in enumerate(train_loader):\n",
    "        images = images.reshape(BATCH_SIZE, -1).to(DEVICE)  #[100,786]\n",
    "        \n",
    "        # '진짜'와 '가짜' 레이블 생성\n",
    "        real_labels = torch.ones(BATCH_SIZE, 1).to(DEVICE)  #[100,1]\n",
    "        fake_labels = torch.zeros(BATCH_SIZE, 1).to(DEVICE) #[100,1]\n",
    "        \n",
    "        # 판별자가 진짜 이미지를 진짜로 인식하는 오차를 예산\n",
    "        outputs = D(images)                                 #[100,1]\n",
    "        d_loss_real = criterion(outputs, real_labels)\n",
    "        real_score = outputs\n",
    "        \n",
    "        # 무작위 텐서로 가짜 이미지 생성\n",
    "        z = torch.randn(BATCH_SIZE, 64).to(DEVICE)\n",
    "        fake_images = G(z)\n",
    "        \n",
    "        # 판별자가 가짜 이미지를 가짜로 인식하는 오차를 계산\n",
    "        outputs = D(fake_images)\n",
    "        d_loss_fake = criterion(outputs, fake_labels)\n",
    "        fake_score = outputs\n",
    "        \n",
    "        # 진짜와 가짜 이미지를 갖고 낸 오차를 더해서 판별자의 오차 계산\n",
    "        d_loss = d_loss_real + d_loss_fake\n",
    "\n",
    "        # 역전파 알고리즘으로 판별자 모델의 학습을 진행\n",
    "        d_optimizer.zero_grad()\n",
    "        g_optimizer.zero_grad()\n",
    "        d_loss.backward()\n",
    "        d_optimizer.step()\n",
    "        \n",
    "        # 생성자가 판별자를 속였는지에 대한 오차를 계산\n",
    "        fake_images = G(z)\n",
    "        outputs = D(fake_images)\n",
    "        g_loss = criterion(outputs, real_labels)\n",
    "        \n",
    "        # 역전파 알고리즘으로 생성자 모델의 학습을 진행\n",
    "        d_optimizer.zero_grad()\n",
    "        g_optimizer.zero_grad()\n",
    "        g_loss.backward()\n",
    "        g_optimizer.step()\n",
    "        \n",
    "    # 학습 진행 알아보기\n",
    "    print('Epoch [{}/{}], d_loss: {:.4f}, g_loss: {:.4f}, D(x): {:.2f}, D(G(z)): {:.2f}' \n",
    "          .format(epoch, EPOCHS, d_loss.item(), g_loss.item(), \n",
    "                  real_score.mean().item(), fake_score.mean().item()))\n",
    "    \n",
    "    samples = fake_images.reshape(BATCH_SIZE, 1, 28, 28)\n",
    "    save_image(samples, os.path.join(dir_name, 'GAN_fake_samples{}.png'.format(epoch + 1)))"
   ]
  }
 ],
 "metadata": {
  "kernelspec": {
   "display_name": "study",
   "language": "python",
   "name": "python3"
  },
  "language_info": {
   "codemirror_mode": {
    "name": "ipython",
    "version": 3
   },
   "file_extension": ".py",
   "mimetype": "text/x-python",
   "name": "python",
   "nbconvert_exporter": "python",
   "pygments_lexer": "ipython3",
   "version": "3.8.13"
  },
  "orig_nbformat": 4,
  "vscode": {
   "interpreter": {
    "hash": "b95e14a29c87abba40257a007338f98af2158a41920ff0be4179e59f4eab7590"
   }
  }
 },
 "nbformat": 4,
 "nbformat_minor": 2
}
